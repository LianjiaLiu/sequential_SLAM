{
 "cells": [
  {
   "cell_type": "code",
   "execution_count": 1,
   "metadata": {
    "ExecuteTime": {
     "end_time": "2024-03-17T15:35:51.583696Z",
     "start_time": "2024-03-17T15:35:45.329274Z"
    }
   },
   "outputs": [
    {
     "name": "stdout",
     "output_type": "stream",
     "text": [
      "Jupyter environment detected. Enabling Open3D WebVisualizer.\n",
      "[Open3D INFO] WebRTC GUI backend enabled.\n",
      "[Open3D INFO] WebRTCWindowSystem: HTTP handshake server disabled.\n",
      "d:\\Gitte_Belly\\Desktop\\submission\\project\n",
      "d:\\Gitte_Belly\\Desktop\\submission\\project\\data\\\n"
     ]
    }
   ],
   "source": [
    "# Enable autoreloading if import packages are changed\n",
    "%load_ext autoreload\n",
    "%autoreload 2\n",
    "\n",
    "import src.sfm as sfm\n",
    "import os\n",
    "import torch\n",
    "import json\n",
    "import cv2\n",
    "import os \n",
    "import config\n",
    "import numpy as np\n",
    "import open3d as o3d\n",
    "import matplotlib.pyplot as plt\n",
    "# from mpl_toolkits.mplot3d import Axes3D\n",
    "device = torch.device(\"cuda\" if torch.cuda.is_available() else \"cpu\")\n",
    "os.environ[\"KMP_DUPLICATE_LIB_OK\"]=\"TRUE\"\n",
    "\n",
    "PATH = os.getcwd()\n",
    "print(PATH)\n",
    "config.image_dir = os.path.join(PATH, 'data','')\n",
    "print(config.image_dir)\n",
    "\n",
    "\n",
    "\n",
    "\n",
    "def get_pc_and_poses(name, structure, color, rotation, motion):\n",
    "    \"\"\"\n",
    "    load the json and ply files\n",
    "    \"\"\"\n",
    "    # Generating rotation matrices from rotation vectors\n",
    "    rotation_mat = [cv2.Rodrigues(rotation[i])[0] for i in range(len(rotation))]\n",
    "\n",
    "    # Asserting the equal length of rotation matrices and motion vectors\n",
    "    assert len(rotation_mat) == len(motion)\n",
    "\n",
    "    # Combining rotation matrices and motion vectors to form extrinsic matrices\n",
    "    extrinsic = np.concatenate((rotation_mat, motion), axis=2)\n",
    "\n",
    "    # Converting extrinsic matrices into homogeneous coordinates\n",
    "    extrinsic = np.array([np.row_stack((mat, [0, 0, 0, 1])) for mat in extrinsic]).tolist()\n",
    "\n",
    "    # Getting a list of files in the image directory\n",
    "    files = os.listdir(os.path.join(config.image_dir,name,'images',''))\n",
    "\n",
    "    # Creating a dictionary with filenames as keys and extrinsic matrices as values\n",
    "    dic = dict(zip(files, extrinsic))\n",
    "\n",
    "    # Creating a dictionary containing intrinsic matrix and extrinsic matrices\n",
    "    dic = {\"intrinsics\": config.K.tolist(), \"extrinsics\": dic}\n",
    "\n",
    "    # Writing the dictionary to a JSON file\n",
    "    with open(f\"./data/{name}/estimated_camera_parameters.json\", \"w\") as outfile:\n",
    "        json.dump(dic, outfile)\n",
    "    # print(f\"pred_{name} file has been written\")\n",
    "    # Creating a point cloud object from the structure and color arrays\n",
    "    pcd2 = o3d.geometry.PointCloud()\n",
    "    pcd2.points = o3d.utility.Vector3dVector(structure)\n",
    "    pcd2.colors = o3d.utility.Vector3dVector(color/255) #colors should be in the range 0-1\n",
    "    o3d.io.write_point_cloud(f\"./data/{name}/estimated_points.ply\",pcd2,format ='xyzrgb')\n",
    "    print(f\"pred_{name} file has been written\")"
   ]
  },
  {
   "cell_type": "code",
   "execution_count": 2,
   "metadata": {},
   "outputs": [
    {
     "name": "stdout",
     "output_type": "stream",
     "text": [
      "extracting the correspondences\n",
      "shape for one image: (1080, 1920, 3)\n"
     ]
    },
    {
     "name": "stderr",
     "output_type": "stream",
     "text": [
      "d:\\Gitte_Belly\\Desktop\\submission\\project\\src\\match.py:50: UserWarning: To copy construct from a tensor, it is recommended to use sourceTensor.clone().detach() or sourceTensor.clone().detach().requires_grad_(True), rather than torch.tensor(sourceTensor).\n",
      "  matches = torch.tensor(matches, dtype=torch.long, device=device)\n",
      "d:\\Gitte_Belly\\Desktop\\submission\\project\\src\\match.py:51: UserWarning: To copy construct from a tensor, it is recommended to use sourceTensor.clone().detach() or sourceTensor.clone().detach().requires_grad_(True), rather than torch.tensor(sourceTensor).\n",
      "  distances = torch.tensor(distances, dtype=torch.float32, device=device)\n"
     ]
    },
    {
     "name": "stdout",
     "output_type": "stream",
     "text": [
      "initializing\n",
      "reconstruct\n",
      "filtering the outliers\n",
      "3345\n",
      "51\n",
      "done\n",
      "extracting the correspondences\n",
      "shape for one image: (1080, 1920, 3)\n",
      "initializing\n",
      "reconstruct\n",
      "filtering the outliers\n",
      "7096\n",
      "51\n",
      "done\n"
     ]
    },
    {
     "ename": "NameError",
     "evalue": "name 'obj_name' is not defined",
     "output_type": "error",
     "traceback": [
      "\u001b[1;31m---------------------------------------------------------------------------\u001b[0m",
      "\u001b[1;31mNameError\u001b[0m                                 Traceback (most recent call last)",
      "\u001b[1;32md:\\Gitte_Belly\\Desktop\\submission\\project\\visualization.ipynb Cell 2\u001b[0m line \u001b[0;36m5\n\u001b[0;32m      <a href='vscode-notebook-cell:/d%3A/Gitte_Belly/Desktop/submission/project/visualization.ipynb#W1sZmlsZQ%3D%3D?line=2'>3</a>\u001b[0m structure_boot_stage1, color_boot_stage1, rotation_boot_stage1, motion_boot_stage1 \u001b[39m=\u001b[39m sfm\u001b[39m.\u001b[39mmain(\u001b[39m'\u001b[39m\u001b[39mboot_stage1\u001b[39m\u001b[39m'\u001b[39m,device )\n\u001b[0;32m      <a href='vscode-notebook-cell:/d%3A/Gitte_Belly/Desktop/submission/project/visualization.ipynb#W1sZmlsZQ%3D%3D?line=3'>4</a>\u001b[0m structure_boot_stage2, color_boot_stage2, rotation_boot_stage2, motion_boot_stage2 \u001b[39m=\u001b[39m sfm\u001b[39m.\u001b[39mmain(\u001b[39m'\u001b[39m\u001b[39mboot_stage2\u001b[39m\u001b[39m'\u001b[39m,device )\n\u001b[1;32m----> <a href='vscode-notebook-cell:/d%3A/Gitte_Belly/Desktop/submission/project/visualization.ipynb#W1sZmlsZQ%3D%3D?line=4'>5</a>\u001b[0m get_pc_and_poses(\u001b[39m'\u001b[39;49m\u001b[39mboot_stage1\u001b[39;49m\u001b[39m'\u001b[39;49m, structure_boot_stage1, color_boot_stage1, rotation_boot_stage1, motion_boot_stage1)\n\u001b[0;32m      <a href='vscode-notebook-cell:/d%3A/Gitte_Belly/Desktop/submission/project/visualization.ipynb#W1sZmlsZQ%3D%3D?line=5'>6</a>\u001b[0m get_pc_and_poses(\u001b[39m'\u001b[39m\u001b[39mboot_stage2\u001b[39m\u001b[39m'\u001b[39m, structure_boot_stage2, color_boot_stage2, rotation_boot_stage2, motion_boot_stage2)\n",
      "\u001b[1;32md:\\Gitte_Belly\\Desktop\\submission\\project\\visualization.ipynb Cell 2\u001b[0m line \u001b[0;36m4\n\u001b[0;32m     <a href='vscode-notebook-cell:/d%3A/Gitte_Belly/Desktop/submission/project/visualization.ipynb#W1sZmlsZQ%3D%3D?line=40'>41</a>\u001b[0m extrinsic \u001b[39m=\u001b[39m np\u001b[39m.\u001b[39marray([np\u001b[39m.\u001b[39mrow_stack((mat, [\u001b[39m0\u001b[39m, \u001b[39m0\u001b[39m, \u001b[39m0\u001b[39m, \u001b[39m1\u001b[39m])) \u001b[39mfor\u001b[39;00m mat \u001b[39min\u001b[39;00m extrinsic])\u001b[39m.\u001b[39mtolist()\n\u001b[0;32m     <a href='vscode-notebook-cell:/d%3A/Gitte_Belly/Desktop/submission/project/visualization.ipynb#W1sZmlsZQ%3D%3D?line=42'>43</a>\u001b[0m \u001b[39m# Getting a list of files in the image directory\u001b[39;00m\n\u001b[1;32m---> <a href='vscode-notebook-cell:/d%3A/Gitte_Belly/Desktop/submission/project/visualization.ipynb#W1sZmlsZQ%3D%3D?line=43'>44</a>\u001b[0m files \u001b[39m=\u001b[39m os\u001b[39m.\u001b[39mlistdir(os\u001b[39m.\u001b[39mpath\u001b[39m.\u001b[39mjoin(config\u001b[39m.\u001b[39mimage_dir,obj_name,\u001b[39m'\u001b[39m\u001b[39mimages\u001b[39m\u001b[39m'\u001b[39m,\u001b[39m'\u001b[39m\u001b[39m'\u001b[39m))\n\u001b[0;32m     <a href='vscode-notebook-cell:/d%3A/Gitte_Belly/Desktop/submission/project/visualization.ipynb#W1sZmlsZQ%3D%3D?line=45'>46</a>\u001b[0m \u001b[39m# Creating a dictionary with filenames as keys and extrinsic matrices as values\u001b[39;00m\n\u001b[0;32m     <a href='vscode-notebook-cell:/d%3A/Gitte_Belly/Desktop/submission/project/visualization.ipynb#W1sZmlsZQ%3D%3D?line=46'>47</a>\u001b[0m dic \u001b[39m=\u001b[39m \u001b[39mdict\u001b[39m(\u001b[39mzip\u001b[39m(files, extrinsic))\n",
      "\u001b[1;31mNameError\u001b[0m: name 'obj_name' is not defined"
     ]
    }
   ],
   "source": [
    "\n",
    "# Calling the 'main' function from the 'sfm' module, passing the 'device' variable as an argument\n",
    "# Assigning the returned values (presumably structure, colors, rotations, and motions) to respective variables\n",
    "structure_boot_stage1, color_boot_stage1, rotation_boot_stage1, motion_boot_stage1 = sfm.main('boot_stage1',device )\n",
    "structure_boot_stage2, color_boot_stage2, rotation_boot_stage2, motion_boot_stage2 = sfm.main('boot_stage2',device )\n",
    "\n"
   ]
  },
  {
   "cell_type": "code",
   "execution_count": 5,
   "metadata": {},
   "outputs": [
    {
     "name": "stdout",
     "output_type": "stream",
     "text": [
      "pred_boot_stage1 file has been written\n",
      "pred_boot_stage2 file has been written\n"
     ]
    }
   ],
   "source": [
    "get_pc_and_poses('boot_stage1', structure_boot_stage1, color_boot_stage1, rotation_boot_stage1, motion_boot_stage1)\n",
    "get_pc_and_poses('boot_stage2', structure_boot_stage2, color_boot_stage2, rotation_boot_stage2, motion_boot_stage2)"
   ]
  },
  {
   "cell_type": "markdown",
   "metadata": {},
   "source": [
    "## For milk and box"
   ]
  },
  {
   "cell_type": "code",
   "execution_count": 8,
   "metadata": {},
   "outputs": [
    {
     "name": "stdout",
     "output_type": "stream",
     "text": [
      "extracting the correspondences\n",
      "shape for one image: (1080, 1920, 3)\n",
      "initializing\n",
      "reconstruct\n",
      "filtering the outliers\n",
      "2557\n",
      "76\n",
      "done\n",
      "extracting the correspondences\n",
      "shape for one image: (1080, 1920, 3)\n",
      "initializing\n",
      "reconstruct\n",
      "filtering the outliers\n",
      "8568\n",
      "50\n",
      "done\n",
      "pred_box.json file has been written\n",
      "pred_box.ply file has been written\n",
      "pred_milk.json file has been written\n",
      "pred_milk.ply file has been written\n"
     ]
    }
   ],
   "source": [
    "structure_box, color_box, rotation_box, motion_box     = sfm.main('box',device  )\n",
    "structure_milk, color_milk, rotation_milk, motion_milk = sfm.main('milk',device  )\n",
    "\n",
    "get_pc_and_poses('box', structure_box, color_box, rotation_box, motion_box)\n",
    "get_pc_and_poses('milk', structure_milk, color_milk, rotation_milk, motion_milk)\n"
   ]
  }
 ],
 "metadata": {
  "kernelspec": {
   "display_name": "Python 3 (ipykernel)",
   "language": "python",
   "name": "python3"
  },
  "language_info": {
   "codemirror_mode": {
    "name": "ipython",
    "version": 3
   },
   "file_extension": ".py",
   "mimetype": "text/x-python",
   "name": "python",
   "nbconvert_exporter": "python",
   "pygments_lexer": "ipython3",
   "version": "3.10.9"
  },
  "varInspector": {
   "cols": {
    "lenName": 16,
    "lenType": 16,
    "lenVar": 40
   },
   "kernels_config": {
    "python": {
     "delete_cmd_postfix": "",
     "delete_cmd_prefix": "del ",
     "library": "var_list.py",
     "varRefreshCmd": "print(var_dic_list())"
    },
    "r": {
     "delete_cmd_postfix": ") ",
     "delete_cmd_prefix": "rm(",
     "library": "var_list.r",
     "varRefreshCmd": "cat(var_dic_list()) "
    }
   },
   "types_to_exclude": [
    "module",
    "function",
    "builtin_function_or_method",
    "instance",
    "_Feature"
   ],
   "window_display": false
  }
 },
 "nbformat": 4,
 "nbformat_minor": 2
}
